{
 "cells": [
  {
   "cell_type": "code",
   "execution_count": 1,
   "metadata": {},
   "outputs": [
    {
     "name": "stderr",
     "output_type": "stream",
     "text": [
      "/Users/jonahsachs/opt/miniconda3/envs/cse468/lib/python3.7/site-packages/qiskit/aqua/__init__.py:86: DeprecationWarning: The package qiskit.aqua is deprecated. It was moved/refactored to qiskit-terra For more information see <https://github.com/Qiskit/qiskit-aqua/blob/main/README.md#migration-guide>\n",
      "  warn_package('aqua', 'qiskit-terra')\n",
      "/Users/jonahsachs/opt/miniconda3/envs/cse468/lib/python3.7/site-packages/qiskit/chemistry/__init__.py:170: DeprecationWarning: The package qiskit.chemistry is deprecated. It was moved/refactored to qiskit_nature (pip install qiskit-nature). For more information see <https://github.com/Qiskit/qiskit-aqua/blob/main/README.md#migration-guide>\n",
      "  warn_package('chemistry', 'qiskit_nature', 'qiskit-nature')\n",
      "/Users/jonahsachs/opt/miniconda3/envs/cse468/lib/python3.7/site-packages/pyscf/dft/libxc.py:771: UserWarning: Since PySCF-2.3, B3LYP (and B3P86) are changed to the VWN-RPA variant, corresponding to the original definition by Stephens et al. (issue 1480) and the same as the B3LYP functional in Gaussian. To restore the VWN5 definition, you can put the setting \"B3LYP_WITH_VWN5 = True\" in pyscf_conf.py\n",
      "  warnings.warn('Since PySCF-2.3, B3LYP (and B3P86) are changed to the VWN-RPA variant, '\n"
     ]
    }
   ],
   "source": [
    "import numpy as np\n",
    "import pylab\n",
    "import copy\n",
    "from qiskit import BasicAer\n",
    "from qiskit.aqua import QuantumInstance, aqua_globals\n",
    "from qiskit.aqua.algorithms import NumPyMinimumEigensolver, VQE\n",
    "from qiskit.aqua.components.optimizers import SLSQP\n",
    "from qiskit.chemistry.components.initial_states import HartreeFock\n",
    "from qiskit.chemistry.components.variational_forms import UCCSD\n",
    "from qiskit.chemistry.drivers import PySCFDriver\n",
    "from qiskit.chemistry.core import Hamiltonian, QubitMappingType"
   ]
  },
  {
   "cell_type": "code",
   "execution_count": 2,
   "metadata": {},
   "outputs": [
    {
     "name": "stderr",
     "output_type": "stream",
     "text": [
      "/Users/jonahsachs/opt/miniconda3/envs/cse468/lib/python3.7/site-packages/ipykernel_launcher.py:28: DeprecationWarning: The Hamiltonian class is deprecated as of Qiskit Aqua 0.8.0 and will be removed no earlier than 3 months after the release date. Instead, the FermionicTransformation can be used.\n",
      "/Users/jonahsachs/opt/miniconda3/envs/cse468/lib/python3.7/site-packages/qiskit/chemistry/core/hamiltonian.py:88: DeprecationWarning: The ChemistryOperator is deprecated as of Qiskit Aqua 0.8.0 and will be removed no earlier than 3 months after the release date. Instead, the FermionicTransformation can be used to transform QMolecules and construct ground state result objects.\n",
      "  super().__init__()\n"
     ]
    },
    {
     "name": "stdout",
     "output_type": "stream",
     "text": [
      "step 0\n"
     ]
    },
    {
     "name": "stderr",
     "output_type": "stream",
     "text": [
      "/Users/jonahsachs/opt/miniconda3/envs/cse468/lib/python3.7/site-packages/qiskit/chemistry/fermionic_operator.py:386: DeprecationWarning: The package qiskit.aqua.operators is deprecated. It was moved/refactored to qiskit.opflow (pip install qiskit-terra). For more information see <https://github.com/Qiskit/qiskit-aqua/blob/main/README.md#migration-guide>\n",
      "  pauli_list = WeightedPauliOperator(paulis=[])\n",
      "/Users/jonahsachs/opt/miniconda3/envs/cse468/lib/python3.7/site-packages/qiskit/chemistry/fermionic_operator.py:394: DeprecationWarning: The variable qiskit.aqua.aqua_globals is deprecated. It was moved/refactored to qiskit.utils.algorithm_globals (pip install qiskit-terra). For more information see <https://github.com/Qiskit/qiskit-aqua/blob/main/README.md#migration-guide>\n",
      "  task_args=(threshold,), num_processes=aqua_globals.num_processes)\n",
      "/Users/jonahsachs/opt/miniconda3/envs/cse468/lib/python3.7/site-packages/qiskit/aqua/algorithms/minimum_eigen_solvers/minimum_eigen_solver.py:38: DeprecationWarning: The package qiskit.aqua.algorithms.minimum_eigen_solvers is deprecated. It was moved/refactored to qiskit.algorithms.minimum_eigen_solvers (pip install qiskit-terra). For more information see <https://github.com/Qiskit/qiskit-aqua/blob/main/README.md#migration-guide>\n",
      "  'qiskit-terra')\n",
      "/Users/jonahsachs/opt/miniconda3/envs/cse468/lib/python3.7/site-packages/qiskit/aqua/algorithms/eigen_solvers/eigen_solver.py:38: DeprecationWarning: The package qiskit.aqua.algorithms.eigen_solvers is deprecated. It was moved/refactored to qiskit.algorithms.eigen_solvers (pip install qiskit-terra). For more information see <https://github.com/Qiskit/qiskit-aqua/blob/main/README.md#migration-guide>\n",
      "  'qiskit-terra')\n",
      "/Users/jonahsachs/opt/miniconda3/envs/cse468/lib/python3.7/site-packages/qiskit/chemistry/core/chemistry_operator.py:170: DeprecationWarning: The qiskit.chemistry.chemistry_operator.MolecularChemistryResult object is deprecated as of 0.8.0 and will be removed no sooner than 3 months after the release. You should use qiskit.chemistry.algorithms.ground_state_solvers.FermionicGroundStateResult instead.\n",
      "  super().__init__(a_dict)\n",
      "/Users/jonahsachs/opt/miniconda3/envs/cse468/lib/python3.7/site-packages/qiskit/chemistry/core/hamiltonian.py:380: DeprecationWarning: The qiskit.chemistry.chemistry_operator.MolecularGroundStateResult object is deprecated as of 0.8.0 and will be removed no sooner than 3 months after the release. You should use qiskit.chemistry.algorithms.ground_state_solvers.FermionicGroundStateResult instead.\n",
      "  mgsr = MolecularGroundStateResult()\n",
      "/Users/jonahsachs/opt/miniconda3/envs/cse468/lib/python3.7/site-packages/qiskit/aqua/components/optimizers/optimizer.py:50: DeprecationWarning: The package qiskit.aqua.components.optimizers is deprecated. It was moved/refactored to qiskit.algorithms.optimizers (pip install qiskit-terra). For more information see <https://github.com/Qiskit/qiskit-aqua/blob/main/README.md#migration-guide>\n",
      "  'qiskit.algorithms.optimizers', 'qiskit-terra')\n",
      "/Users/jonahsachs/opt/miniconda3/envs/cse468/lib/python3.7/site-packages/qiskit/chemistry/components/initial_states/hartree_fock.py:61: DeprecationWarning: The HartreeFock class is deprecated as of Aqua 0.9 and will be removed no earlier than 3 months after the release date. Instead, all algorithms and circuits accept a plain QuantumCircuit. \n",
      "  super().__init__()\n",
      "/Users/jonahsachs/opt/miniconda3/envs/cse468/lib/python3.7/site-packages/qiskit/aqua/components/variational_forms/variational_form.py:48: DeprecationWarning: The package qiskit.aqua.components.variational_forms is deprecated. For more information see <https://github.com/Qiskit/qiskit-aqua/blob/main/README.md#migration-guide>\n",
      "  warn_package('aqua.components.variational_forms')\n",
      "/Users/jonahsachs/opt/miniconda3/envs/cse468/lib/python3.7/site-packages/qiskit/aqua/algorithms/vq_algorithm.py:72: DeprecationWarning: The class qiskit.aqua.algorithms.VQAlgorithm is deprecated. It was moved/refactored to qiskit.algorithms.VariationalAlgorithm (pip install qiskit-terra). For more information see <https://github.com/Qiskit/qiskit-aqua/blob/main/README.md#migration-guide>\n",
      "  'qiskit-terra')\n",
      "/Users/jonahsachs/opt/miniconda3/envs/cse468/lib/python3.7/site-packages/qiskit/aqua/quantum_instance.py:137: DeprecationWarning: The class qiskit.aqua.QuantumInstance is deprecated. It was moved/refactored to qiskit.utils.QuantumInstance (pip install qiskit-terra). For more information see <https://github.com/Qiskit/qiskit-aqua/blob/main/README.md#migration-guide>\n",
      "  'qiskit-terra')\n",
      "/Users/jonahsachs/opt/miniconda3/envs/cse468/lib/python3.7/site-packages/qiskit/chemistry/components/variational_forms/uccsd.py:429: DeprecationWarning: Back-references to from Bit instances to their containing Registers have been deprecated. Instead, inspect Registers to find their contained Bits.\n",
      "  qbits[i] = circuit.qubits[qbits[i].index]\n",
      "/Users/jonahsachs/opt/miniconda3/envs/cse468/lib/python3.7/site-packages/qiskit/chemistry/components/variational_forms/uccsd.py:429: DeprecationWarning: Back-references to from Bit instances to their containing Registers have been deprecated. Instead, inspect Registers to find their contained Bits.\n",
      "  qbits[i] = circuit.qubits[qbits[i].index]\n"
     ]
    },
    {
     "name": "stdout",
     "output_type": "stream",
     "text": [
      "step 1\n"
     ]
    },
    {
     "name": "stderr",
     "output_type": "stream",
     "text": [
      "/Users/jonahsachs/opt/miniconda3/envs/cse468/lib/python3.7/site-packages/qiskit/chemistry/core/chemistry_operator.py:170: DeprecationWarning: The qiskit.chemistry.chemistry_operator.MolecularChemistryResult object is deprecated as of 0.8.0 and will be removed no sooner than 3 months after the release. You should use qiskit.chemistry.algorithms.ground_state_solvers.FermionicGroundStateResult instead.\n",
      "  super().__init__(a_dict)\n",
      "/Users/jonahsachs/opt/miniconda3/envs/cse468/lib/python3.7/site-packages/qiskit/chemistry/core/hamiltonian.py:380: DeprecationWarning: The qiskit.chemistry.chemistry_operator.MolecularGroundStateResult object is deprecated as of 0.8.0 and will be removed no sooner than 3 months after the release. You should use qiskit.chemistry.algorithms.ground_state_solvers.FermionicGroundStateResult instead.\n",
      "  mgsr = MolecularGroundStateResult()\n",
      "/Users/jonahsachs/opt/miniconda3/envs/cse468/lib/python3.7/site-packages/ipykernel_launcher.py:28: DeprecationWarning: The Hamiltonian class is deprecated as of Qiskit Aqua 0.8.0 and will be removed no earlier than 3 months after the release date. Instead, the FermionicTransformation can be used.\n",
      "/Users/jonahsachs/opt/miniconda3/envs/cse468/lib/python3.7/site-packages/qiskit/chemistry/core/hamiltonian.py:88: DeprecationWarning: The ChemistryOperator is deprecated as of Qiskit Aqua 0.8.0 and will be removed no earlier than 3 months after the release date. Instead, the FermionicTransformation can be used to transform QMolecules and construct ground state result objects.\n",
      "  super().__init__()\n",
      "/Users/jonahsachs/opt/miniconda3/envs/cse468/lib/python3.7/site-packages/qiskit/chemistry/components/initial_states/hartree_fock.py:61: DeprecationWarning: The HartreeFock class is deprecated as of Aqua 0.9 and will be removed no earlier than 3 months after the release date. Instead, all algorithms and circuits accept a plain QuantumCircuit. \n",
      "  super().__init__()\n"
     ]
    },
    {
     "name": "stdout",
     "output_type": "stream",
     "text": [
      "step 2\n",
      "step 3\n",
      "step 4\n",
      "step 5\n",
      "step 6\n",
      "step 7\n",
      "step 8\n",
      "step 9\n",
      "step 10\n",
      "step 11\n",
      "step 12\n",
      "step 13\n",
      "step 14\n"
     ]
    }
   ],
   "source": [
    "#liH\n",
    "#PySCF -- Python for Strongly Correlated Electron Systems\n",
    "\n",
    "molecule = 'H .0 .0 -{0}; Li .0 .0 {0}'\n",
    "\n",
    "#LiH, Lithium hydride\n",
    "#Ionic Bond\n",
    "#estimate interatomic distance: 1.6 Angstrom\n",
    "#range of distances is [.5, 4.25] Angstrom\n",
    "\n",
    "distances = np.arange(0.5, 4.25, 0.25)\n",
    "vqe_energies = [] #optimized energies (VQE)\n",
    "hf_energies = [] #initial guesses (hartree-fock method)\n",
    "exact_energies = [] #exact energies by numpy\n",
    "\n",
    "for i,d in enumerate(distances):\n",
    "    print('step',i) \n",
    "    #intervals of 0.25 Angstrom for each step\n",
    "\n",
    "    # set up experiment\n",
    "    driver = PySCFDriver(molecule.format(d/2), basis='sto3g')\n",
    "    #basis set of functions used to describe the spread of electrons in the molecule\n",
    "    #typically combined atomic orbitals to approximate the molecular orbitals of the molecule\n",
    "\n",
    "    #in setup the interatomic guess is .735 to start\n",
    "    qmolecule = driver.run()\n",
    "\n",
    "    operator =  Hamiltonian(qubit_mapping=QubitMappingType.PARITY, two_qubit_reduction=True, freeze_core=True,orbital_reduction=[-3,-2])\n",
    "\n",
    "    qubit_op, aux_ops = operator.run(qmolecule)\n",
    "\n",
    "    #exact classical result\n",
    "    exact_result = NumPyMinimumEigensolver(qubit_op).run()\n",
    "    exact_result = operator.process_algorithm_result(exact_result)\n",
    "\n",
    "    #VQE\n",
    "    optimizer = SLSQP(maxiter=1000)\n",
    "    initial_state = HartreeFock(operator.molecule_info['num_orbitals'],\n",
    "                                operator.molecule_info['num_particles'],\n",
    "                                qubit_mapping=operator._qubit_mapping,\n",
    "                                two_qubit_reduction=operator._two_qubit_reduction)\n",
    "    #Ansatz for the wavefunction\n",
    "\n",
    "    var_form = UCCSD(num_orbitals=operator.molecule_info['num_orbitals'],\n",
    "                    num_particles=operator.molecule_info['num_particles'],\n",
    "                    initial_state=initial_state,\n",
    "                    qubit_mapping=operator._qubit_mapping,\n",
    "                    two_qubit_reduction=operator._two_qubit_reduction)\n",
    "    \n",
    "\n",
    "    algo = VQE(qubit_op, var_form, optimizer, aux_operators=aux_ops)\n",
    "\n",
    "    vqe_result = algo.run(QuantumInstance(BasicAer.get_backend('statevector_simulator')))\n",
    "\n",
    "    vqe_result = operator.process_algorithm_result(vqe_result)\n",
    "\n",
    "    exact_energies.append(exact_result.energy)\n",
    "    vqe_energies.append(vqe_result.energy)\n",
    "    hf_energies.append(vqe_result.hartree_fock_energy)\n",
    "\n"
   ]
  },
  {
   "cell_type": "code",
   "execution_count": 3,
   "metadata": {},
   "outputs": [
    {
     "data": {
      "image/png": "[encoded data removed]",
      "text/plain": [
       "<Figure size 432x288 with 1 Axes>"
      ]
     },
     "metadata": {
      "needs_background": "light"
     },
     "output_type": "display_data"
    }
   ],
   "source": [
    "#plotting\n",
    "\n",
    "pylab.plot(distances, hf_energies, label='Hartree-Fock')\n",
    "pylab.plot(distances, exact_energies, label='Exact')\n",
    "pylab.plot(distances, vqe_energies, 'o', label='VQE')\n",
    "pylab.xlabel('Interatomic distance (Angstrom)')\n",
    "\n",
    "pylab.ylabel('Energy')\n",
    "pylab.title('LiH Ground State Energy(eV)')\n",
    "pylab.legend(loc='upper right')\n",
    "\n",
    "pylab.xlim(.55,3.5)\n",
    "\n",
    "pylab.show()"
   ]
  },
  {
   "cell_type": "code",
   "execution_count": 4,
   "metadata": {},
   "outputs": [
    {
     "data": {
      "image/png": "[encoded data removed]",
      "text/plain": [
       "<Figure size 432x288 with 1 Axes>"
      ]
     },
     "metadata": {
      "needs_background": "light"
     },
     "output_type": "display_data"
    }
   ],
   "source": [
    "error_distance = []\n",
    "for i in range(len(distances)):\n",
    "    error_distance.append(vqe_energies[i] - exact_energies[i])\n",
    "\n",
    "pylab.plot(distances, error_distance, 'o', label='VQE')\n",
    "\n",
    "pylab.xlabel('Interatomic distance (Angstrom)')\n",
    "pylab.ylabel('Energy difference (VQE) (eV)')\n",
    "\n",
    "#make y ticks smaller\n",
    "locs, labels = pylab.yticks()\n",
    "pylab.yticks(locs, list(map(lambda x: \"%.8f\" % x, locs)))\n",
    "\n",
    "\n",
    "\n",
    "pylab.title('LiH Ground State Energy Difference')\n",
    "\n",
    "pylab.legend(loc='upper right')\n",
    "\n",
    "#draw a vertical line at 1.6 Angstrom for the measured interatomic distance of LiH\n",
    "pylab.axvline(x=1.6, color='black', linestyle='--')\n",
    "\n",
    "pylab.show()"
   ]
  },
  {
   "cell_type": "code",
   "execution_count": 7,
   "metadata": {},
   "outputs": [
    {
     "name": "stdout",
     "output_type": "stream",
     "text": [
      "Average difference between VQE and exact solution is: 1.135933613246228e-07\n",
      "\n",
      "\n",
      "The VQE result is: [-7.039732392691677, -7.571892648261558, -7.7822423934729, -7.860211747128028, -7.881015701746915, -7.8760630644594585, -7.860153185763213, -7.8410423497045105, -7.823076363233848, -7.808612359423614, -7.798363283927582, -7.791753027384241, -7.787716828308764, -7.785319601551528, -7.783918289421533]\n",
      "\n",
      "\n",
      "The exact result is: [-7.039732521628313, -7.571892675307293, -7.782242402637357, -7.860211753123144, -7.881015715647112, -7.876063072528284, -7.860153207378858, -7.841042712184123, -7.823076642133832, -7.80861239638826, -7.7983634309351135, -7.79175325370317, -7.787716973585165, -7.785319717102821, -7.783918466096945]\n",
      "\n",
      "\n"
     ]
    }
   ],
   "source": [
    "#average energy difference\n",
    "\n",
    "print('Average difference between VQE and exact solution is: {}'.format(np.mean(error_distance)))\n",
    "\n",
    "print(\"\\n\")\n",
    "\n",
    "print('The VQE result is: {}'.format(vqe_energies))\n",
    "\n",
    "print(\"\\n\")\n",
    "\n",
    "print('The exact result is: {}'.format(exact_energies))\n",
    "\n",
    "print(\"\\n\")"
   ]
  }
 ],
 "metadata": {
  "kernelspec": {
   "display_name": "Python 3",
   "language": "python",
   "name": "python3"
  },
  "language_info": {
   "codemirror_mode": {
    "name": "ipython",
    "version": 3
   },
   "file_extension": ".py",
   "mimetype": "text/x-python",
   "name": "python",
   "nbconvert_exporter": "python",
   "pygments_lexer": "ipython3",
   "version": "3.7.0"
  },
  "orig_nbformat": 4
 },
 "nbformat": 4,
 "nbformat_minor": 2
}
